{
 "cells": [
  {
   "cell_type": "markdown",
   "metadata": {},
   "source": [
    "# BarcodeBabel draft 7\n",
    "\n",
    "Elliot Eton\n",
    "<br>\n",
    "August 2020\n",
    "<br>\n",
    "Contact: eoe4001@med.cornell.edu\n",
    "\n",
    "Rules:\n",
    "1. User-defined enzyme cleavage sites\n",
    "    * Defaults: `GRA` on both ends\n",
    "    * Specify separately for beginning and end\n",
    "    * Enzyme function needs to be edited to match user cleavage site\n",
    "2. User-defined frequencies of amino acids:\n",
    "    * Defaults: Frequencies will be 0 for some: K, R, H, C, M, P\n",
    "3. User-defined m/z range at user-defined pH\n",
    "    * Defaults: pH = 3, m/z range: 550-850\n",
    "4. User-defined maximum length of allowed repeats\n",
    "    * Default: 2\n",
    "5. User-defined hydrophobicity range:\n",
    "    * Default: Updated with proteometools hydrophobicity range - max hydrophobic windows\n",
    "6. User-defined library size:\n",
    "    * Default: 2000\n",
    "7. Disallow overlap with reference proteome\n",
    "    \n",
    "Properties 3 and 5 must be satisfied by the trypsinized barcode (e.g. instead of computing `property(\"GRAxxxGRA\")` we want to compute `property(\"AxxxGR\")`)"
   ]
  },
  {
   "cell_type": "markdown",
   "metadata": {},
   "source": [
    "## 0. Import packages"
   ]
  },
  {
   "cell_type": "code",
   "execution_count": 4,
   "metadata": {},
   "outputs": [],
   "source": [
    "import sys, getopt\n",
    "import pandas as pd\n",
    "import numpy as np\n",
    "from tqdm import tqdm\n",
    "from Bio import SeqIO\n",
    "from Bio import Seq\n",
    "from Bio.SeqUtils.ProtParam import ProteinAnalysis\n",
    "from Bio.SeqUtils.IsoelectricPoint import IsoelectricPoint, positive_pKs, negative_pKs\n",
    "import matplotlib.pyplot as plt\n",
    "import csv\n",
    "from datetime import datetime"
   ]
  },
  {
   "cell_type": "markdown",
   "metadata": {},
   "source": [
    "## 1. Allow user to start BarcodeBabel through Terminal and access the provided input file."
   ]
  },
  {
   "cell_type": "code",
   "execution_count": 2,
   "metadata": {},
   "outputs": [],
   "source": [
    "#!/usr/bin/env python\n",
    "# coding: utf-8\n",
    "\n",
    "# In[ ]:\n",
    "\n",
    "def error_message(argv):\n",
    "    print('Please specify an input file.')\n",
    "    print('Format: SCRIPT.py -i <inputfile>')\n",
    "    \n",
    "def obtain_file(argv):\n",
    "    '''This function will detect whether an input file containing the script parameters\n",
    "    has been provided by the user. If provided, script will save the name of the input file\n",
    "    for use. If not provided, script will shutdown and display an error message.'''\n",
    "    inputfile = ''\n",
    "    if len(sys.argv) <= 1:\n",
    "        error_message(1)\n",
    "        sys.exit(1)\n",
    "    try:\n",
    "        opts, args = getopt.getopt(argv,\"hi:o:\",[\"ifile=\"])\n",
    "    except getopt.GetoptError:\n",
    "        error_message(1)\n",
    "        sys.exit(2)\n",
    "    for opt, arg in opts:\n",
    "        if opt == '-h':\n",
    "            error_message(1)\n",
    "            sys.exit()\n",
    "        if opt in (\"-i\", \"--ifile\"):\n",
    "            inputfile = arg\n",
    "    print('Welcome to BarcodeBabel, version 8.')\n",
    "    print('\\n')\n",
    "    print('Accessing the input file: ' + str(inputfile) + '...')\n",
    "    print('Success: input file ' + str(inputfile) + ' accessed.')\n",
    "    print('\\n')\n",
    "    return inputfile\n",
    "\n",
    "if __name__ == \"__main__\":\n",
    "    inputfile = obtain_file(sys.argv[1:])"
   ]
  },
  {
   "cell_type": "markdown",
   "metadata": {},
   "source": [
    "## 2. Parse input file."
   ]
  },
  {
   "cell_type": "markdown",
   "metadata": {},
   "source": [
    "### 2.1 Read file and save the user-defined parameter values. "
   ]
  },
  {
   "cell_type": "code",
   "execution_count": null,
   "metadata": {},
   "outputs": [],
   "source": [
    "print(\"Reading the input file \" + str(inputfile) + \"...\")"
   ]
  },
  {
   "cell_type": "code",
   "execution_count": 3,
   "metadata": {},
   "outputs": [],
   "source": [
    "inputfile = \"inputfile.csv\" #####*****Just for jupyter notebook*****#####\n",
    "\n",
    "#parse excel sheet\n",
    "params = pd.read_csv(inputfile)\n",
    "#drop empty columns\n",
    "params.drop(params.columns[params.columns.str.contains('unnamed',case = False)],axis = 1, inplace = True)\n",
    "#for consistency, capitalize all characters in column headers\n",
    "params.rename(columns=str.upper, inplace = True)\n",
    "#replace all extraneous characters\n",
    "params.columns = params.columns.str.strip('-\\xd0./_')\n",
    "params.columns = params.columns.str.replace(\"_\", \"\")\n",
    "#for all cells where NaN, fill with 0.00\n",
    "params = params.fillna(0.00)\n",
    "#convert the dataframe containing the user defined parameters to a dict for easy use\n",
    "user_defined_params = params.to_dict('list')\n",
    "#the values in that dict are lists...convert to strings\n",
    "user_params = {}\n",
    "for key in user_defined_params:\n",
    "    user_params[key] = str(user_defined_params[key][0])"
   ]
  },
  {
   "cell_type": "code",
   "execution_count": null,
   "metadata": {},
   "outputs": [],
   "source": [
    "print(\"Success: input file \" + str(inputfile) + \" read.\")\n",
    "print('\\n')"
   ]
  },
  {
   "cell_type": "markdown",
   "metadata": {},
   "source": [
    "### 2.2 Evaluate and compile (if needed) user-defined parameters with package defaults."
   ]
  },
  {
   "cell_type": "code",
   "execution_count": null,
   "metadata": {},
   "outputs": [],
   "source": [
    "print(\"Evaluating user-defined parameters...\")"
   ]
  },
  {
   "cell_type": "code",
   "execution_count": 4,
   "metadata": {},
   "outputs": [],
   "source": [
    "#a list of all possible parameters that the user can specify\n",
    "poss_params = [\n",
    "                'CUT SITE 1',\n",
    "                'CUT SITE 2',\n",
    "                'LENGTH',\n",
    "                'DIGEST',\n",
    "                'SIDE',\n",
    "                'A', \n",
    "                'C', \n",
    "                'D',\n",
    "                'E', \n",
    "                'F',\n",
    "                'G',\n",
    "                'H',\n",
    "                'I', \n",
    "                'K', \n",
    "                'L', \n",
    "                'M', \n",
    "                'N', \n",
    "                'P', \n",
    "                'Q', \n",
    "                'R', \n",
    "                'S', \n",
    "                'T', \n",
    "                'V', \n",
    "                'W', \n",
    "                'Y', \n",
    "                'PH', \n",
    "                'MZMIN', \n",
    "                'MZMAX', \n",
    "                'REP', \n",
    "                'HMIN', \n",
    "                'HMAX', \n",
    "                'REF', \n",
    "                'LIB']\n",
    "\n",
    "#a list of the default parameters\n",
    "defaults = {\n",
    "                'CUT SITE 1': 'GRA',\n",
    "                'CUT SITE 2': 'GRA',\n",
    "                'LENGTH': 3, #need to adjust depending on length of cut site\n",
    "                'DIGEST': 'R',\n",
    "                'SIDE':'C',\n",
    "                #K,R,H can cause trypsin cleavage within sequences\n",
    "                'K': 0.00,\n",
    "                'R': 0.00,\n",
    "                'H': 0.00,\n",
    "                #C,M can be oxidized\n",
    "                'C': 0.00,\n",
    "                'M': 0.00,\n",
    "                #P skews fragmentation\n",
    "                'P': 0.00,\n",
    "                #I,L cannot be distinguished\n",
    "                'I': 0.00,\n",
    "                'L': 0.00,\n",
    "                #Q,N can be easily deamidated\n",
    "                'Q': 0.00,\n",
    "                'N': 0.00,\n",
    "                'PH': 3,\n",
    "                'MZMIN': 550,\n",
    "                'MZMAX': 850,\n",
    "                'REP': 2,\n",
    "                'HMIN': -0.5,\n",
    "                'HMAX': 2.5,\n",
    "                'REF': 0.0,\n",
    "                'LIB': 2000\n",
    "}\n",
    "\n",
    "\n",
    "print(\"User provided values for the following parameters:\")\n",
    "print(list(user_params.keys()))\n",
    "print('\\n')\n",
    "\n",
    "#Check if user specified parameter(s) that have wrong labels.\n",
    "##If true, print error message and quit running code.\n",
    "odd_labels = []\n",
    "for p in list(user_params.keys()):\n",
    "    if p not in poss_params:\n",
    "        odd_labels.append(p)\n",
    "if len(odd_labels) == 1:\n",
    "    print(\"Error. The label \" + str(odd_labels) + \" does not correspond to a possible parameter. Please correct and re-run.\")\n",
    "    sys.exit()\n",
    "elif len(odd_labels) >= 2:\n",
    "    print(\"Error. The labels \" + str(odd_labels) + \" do not correspond to possible parameters. Please correct and re-run.\")\n",
    "    sys.exit()\n",
    "    \n",
    "#Check if user did not specify one or more parameters for which defaults do not exist.\n",
    "##If true, print error message and quit running code.\n",
    "req_missing_params = []\n",
    "for param in poss_params:\n",
    "    if param not in user_params and param not in defaults:\n",
    "        req_missing_params.append(param)\n",
    "print(req_missing_params)\n",
    "if len(req_missing_params) == 1:\n",
    "    print(\"Error. Please re-run code after updating the CSV file to define the frequency of the following amino acid: \" + str(req_missing_params).strip('[]') + \".\")\n",
    "    sys.exit()\n",
    "elif len(req_missing_params) >= 2:\n",
    "    print(\"Error. Please re-run code after updating the CSV file to define the frequencies of the following amino acids: \" + str(req_missing_params) + \".\")\n",
    "    sys.exit()\n",
    "else:\n",
    "    print(\"Success: all required parameters have been provided.\")\n",
    "    print(\"\\n\")\n",
    "    \n",
    "#Check if user did not specify one or more parameters for which defaults exist.\n",
    "##If true, identify these parameters for potential later appendage to the user-defined parameters.\n",
    "defaults_to_append = {}\n",
    "for param in poss_params:\n",
    "    if param not in user_params and param in defaults:\n",
    "        defaults_to_append[param] = defaults[param]\n",
    "#Confirm that default values are acceptable to the user. If so, compile parameters. If not, exit code.\n",
    "if len(defaults_to_append) > 0:\n",
    "    print('User did not specify values for the following parameters: ' + str(list(defaults_to_append.keys())))\n",
    "    print('\\n')\n",
    "    print('The default values for those parameters, corresponding to a trypsin digestion, are as follows:')\n",
    "    for _ in list(defaults_to_append.keys()):\n",
    "        print('\\t{}: {:.3}'.format(_,str(defaults_to_append[_])))\n",
    "    print('\\n')\n",
    "    ans2 = input(\"Are these above default values for a trypsin digestion acceptable (y/n)? : \")\n",
    "    if ans2.lower() == 'n':\n",
    "        print(\"Because the default values are not acceptable, please manually update the input file to provide the desired parameter values.\")\n",
    "        sys.exit()\n",
    "    print('Compiling user-defined parameters with package defaults...')\n",
    "\n",
    "#Compile user-defined parameters and append defaults for any parameters not specified by user.\n",
    "def Merge(dict1, dict2): \n",
    "    merged_dict = {**dict1, **dict2} \n",
    "    return merged_dict     \n",
    "all_params = Merge(user_params, defaults_to_append)\n",
    "print('Success: User-defined parameter values and default parameter values compiled.')\n",
    "print('\\n')\n",
    "\n",
    "#display parameters and their values\n",
    "print('Parameters and their values: ')\n",
    "for p_key in list(all_params.keys()):\n",
    "    print('\\t{}: {:.3}'.format(p_key,str(all_params[p_key])))\n",
    "print('\\n')\n",
    "\n",
    "#Confirm with the user that the compiled parameter values are correct\n",
    "ans = input('Please confirm that the parameter values as shown above are correct (y/n): ')\n",
    "if ans.lower() == 'n':\n",
    "    print('Error: parameter values deemed incorrect. Please manually edit the input file to provide desired parameter values.')\n",
    "    print('Quitting code...')\n",
    "    sys.exit()\n",
    "print('\\n')"
   ]
  },
  {
   "cell_type": "markdown",
   "metadata": {},
   "source": [
    "## 3. Set the foundation of the code: sampling distribution and functions."
   ]
  },
  {
   "cell_type": "markdown",
   "metadata": {},
   "source": [
    "### 3.1 Generate initial sampling distribution for amino acid residues."
   ]
  },
  {
   "cell_type": "code",
   "execution_count": 5,
   "metadata": {},
   "outputs": [
    {
     "name": "stdout",
     "output_type": "stream",
     "text": [
      "initial sampling distribution: \n",
      "\tA: 10.%\n",
      "\tC: 0.0%\n",
      "\tD: 10.%\n",
      "\tE: 10.%\n",
      "\tF: 10.%\n",
      "\tG: 10.%\n",
      "\tH: 0.0%\n",
      "\tI: 0.0%\n",
      "\tK: 0.0%\n",
      "\tL: 10.%\n",
      "\tM: 0.0%\n",
      "\tN: 0.0%\n",
      "\tP: 0.0%\n",
      "\tQ: 0.0%\n",
      "\tR: 0.0%\n",
      "\tS: 10.%\n",
      "\tT: 10.%\n",
      "\tV: 10.%\n",
      "\tW: 10.%\n",
      "\tY: 0.0%\n"
     ]
    }
   ],
   "source": [
    "print('Generating initial sampling distribution for amino acid residues...')\n",
    "#Identify and normalize the residue frequencies.\n",
    "standard_amino_acids = sorted(list('AGILPVFWYDERHKSTCMNQ'))\n",
    "residue_frequencies_dict = {}\n",
    "for aa in standard_amino_acids:\n",
    "    residue_frequencies_dict[aa] = float(all_params[aa])\n",
    "residue_frequencies = np.array(list(residue_frequencies_dict.values()))\n",
    "residue_frequencies /= np.sum(residue_frequencies) \n",
    "#Uncomment the below if you want to assert sum is 1.0, but the previous normalization step will introduce \n",
    "#some minute decimal error to the values, such that np.sum(residue_frequencies) is very nearly 1 but not exactly...\n",
    "#assert np.sum(residue_frequencies) == 1.0 \n",
    "\n",
    "print('\\n')\n",
    "print('initial sampling distribution: ')\n",
    "for i in range(len(standard_amino_acids)):\n",
    "    print('\\t{}: {:.3}%'.format(standard_amino_acids[i],str(float(residue_frequencies[i]*100))))\n",
    "print('\\n')"
   ]
  },
  {
   "cell_type": "code",
   "execution_count": 6,
   "metadata": {},
   "outputs": [],
   "source": [
    "# uniform distribution\n",
    "uniform_distribution = np.ones(len(standard_amino_acids)) / len(standard_amino_acids)"
   ]
  },
  {
   "cell_type": "markdown",
   "metadata": {},
   "source": [
    "### 3.2 Define functions to generate, characterize, and evaluate peptides."
   ]
  },
  {
   "cell_type": "code",
   "execution_count": 7,
   "metadata": {},
   "outputs": [],
   "source": [
    "def sample_random_peptide(length, residue_frequencies=uniform_distribution):\n",
    "    \"\"\"Sample a random peptide of specified length, with specified AA probabilities\"\"\"\n",
    "    return ''.join(np.random.choice(standard_amino_acids, size=length, p=residue_frequencies))\n",
    "\n",
    "def compute_mz(peptide, pH):\n",
    "    \"\"\"Return the mass over charge ratio for a peptide at a specified pH\"\"\"\n",
    "    from pyteomics.mass import calculate_mass\n",
    "    from pyteomics.electrochem import charge\n",
    "    return calculate_mass(peptide) / charge(sequence=peptide, pH=pH)\n",
    "\n",
    "def check_longest_repetition(peptide):\n",
    "    \"\"\"Return the length of the longest string of repeated characters in the peptide\"\"\"\n",
    "    prev_aa = peptide[0]\n",
    "    longest_repetition = 1\n",
    "    current_repetition = 1\n",
    "    for i in range(1, len(peptide)):\n",
    "        if peptide[i] == prev_aa:\n",
    "            current_repetition += 1\n",
    "        else:\n",
    "            prev_aa = peptide[i]\n",
    "            longest_repetition = max(current_repetition, longest_repetition)\n",
    "            current_repetition = 1\n",
    "    return longest_repetition\n",
    "\n",
    "kyte_doolittle_scale = { 'A': 1.8,'R':-4.5,'N':-3.5,'D':-3.5,'C': 2.5,\n",
    "       'Q':-3.5,'E':-3.5,'G':-0.4,'H':-3.2,'I': 4.5,\n",
    "       'L': 3.8,'K':-3.9,'M': 1.9,'F': 2.8,'P':-1.6,\n",
    "       'S':-0.8,'T':-0.7,'W':-0.9,'Y':-1.3,'V': 4.2 }\n",
    "\n",
    "def compute_hydrophobicity_profile(peptide, window=5):\n",
    "    \"\"\"Return the hydrophobicity profile along the peptide using the Kyte-Doolittle scale\"\"\"\n",
    "    analysis = ProteinAnalysis(peptide)\n",
    "    window = min(window, len(analysis.sequence))\n",
    "    hydrophobicity_profile = analysis.protein_scale(kyte_doolittle_scale, window=window)\n",
    "    return hydrophobicity_profile\n",
    "\n",
    "def acceptable_hydrophobicity_profile(peptide, min_hydrophobicity, max_hydrophobicity):\n",
    "    \"\"\"Return True if the MAXIMUM along the hydrophobicity profile is >= min_hydrophobicity,\n",
    "    and the MAXIMUM along the hydrophobicity_profile is <= max_hydrophobicity\"\"\"\n",
    "    hydrophobicity_profile = compute_hydrophobicity_profile(peptide)\n",
    "    return (np.max(hydrophobicity_profile) >= min_hydrophobicity) and (np.max(hydrophobicity_profile) <= max_hydrophobicity)\n",
    "\n",
    "def no_long_repetitions(peptide, max_n_repeat):\n",
    "    \"\"\"Return True only if the sequence contains no strings of repeated characters\n",
    "    longer than threshold.\"\"\"\n",
    "    return check_longest_repetition(peptide) <= max_n_repeat\n",
    "\n",
    "def mz_in_range(peptide, min_mz, max_mz, pH):\n",
    "    \"\"\"Return True only if m/z ratio is within desired interval\"\"\"\n",
    "    mz = compute_mz(peptide, pH=pH)\n",
    "    return (mz >= min_mz) and (mz <= max_mz)\n",
    "\n",
    "def avoids_certain_residues(peptide, residues_to_avoid):\n",
    "    \"\"\"Return True only if the peptide contains none of the residues_to_avoid\"\"\"\n",
    "    return len(set(peptide).intersection(set(residues_to_avoid))) == 0"
   ]
  },
  {
   "cell_type": "code",
   "execution_count": 8,
   "metadata": {},
   "outputs": [],
   "source": [
    "class ReferenceProteome():\n",
    "    def __init__(self,\n",
    "                 path_to_fasta):\n",
    "        \"\"\"Basic, will speed this up if needed\"\"\"\n",
    "        self.load_from_fasta_file(path_to_fasta)\n",
    "        self.path_to_fasta = path_to_fasta\n",
    "    \n",
    "    def load_from_fasta_file(self, path_to_fasta):\n",
    "        self.reference_sequences = []\n",
    "        for seq_record in SeqIO.parse(path_to_fasta, \"fasta\"):\n",
    "            self.reference_sequences.append(str(seq_record.seq))\n",
    "    \n",
    "    def check_if_in_reference_proteome(self, peptide):\n",
    "        for reference_seq in self.reference_sequences:\n",
    "            if peptide in reference_seq:\n",
    "                return True\n",
    "        return False\n",
    "\n",
    "print('Parsing the provided reference proteome file...')\n",
    "reference_proteome = ReferenceProteome(path_to_fasta=all_params['REF'])#'20181017_UPR_homo_cRAP_tatfly.fasta')\n",
    "print('Parsed.')\n",
    "print('\\n')"
   ]
  },
  {
   "cell_type": "code",
   "execution_count": 9,
   "metadata": {},
   "outputs": [],
   "source": [
    "def append_enzyme_cleavage_sites(peptide, initial=all_params['CUT SITE 1'], end=all_params['CUT SITE 2']):\n",
    "    \"\"\"Add fixed sequences to the beginning and end of the barcode\"\"\"\n",
    "    return ''.join([initial, peptide, end])\n",
    "\n",
    "def digest(peptide):\n",
    "    \"\"\"Default: GRAxxxGRA --> AxxxGR\"\"\"\n",
    "    digestion = peptide.split(all_params['DIGEST'])\n",
    "    assert (len(digestion)==3)\n",
    "    digested_peptide = digestion[1]\n",
    "    if all_params['SIDE'] == 'C':\n",
    "        digested_peptide = ''.join([digested_peptide, all_params['DIGEST']])\n",
    "    if all_params['SIDE'] == 'N':\n",
    "        digested_peptide = ''.join([all_params['DIGEST'],digested_peptide])\n",
    "    return digested_peptide\n",
    "\n",
    "def sample_random_length(min_length=3, max_length=25):\n",
    "    \"\"\"Pick a random integer given inclusive bounds\"\"\"\n",
    "    return np.random.randint(min_length, max_length+1)\n",
    "\n",
    "def sample_from_trial_distribution():\n",
    "    \"\"\"Sample a random length, then sample a random peptide of that length\"\"\"\n",
    "    return append_enzyme_cleavage_sites(sample_random_peptide(sample_random_length(), residue_frequencies))\n",
    "\n",
    "def not_in_reference_proteome(peptide):\n",
    "    \"\"\"Return True only if this peptide sequence is not present in the reference proteome\"\"\"\n",
    "    return not reference_proteome.check_if_in_reference_proteome(peptide)\n",
    "\n",
    "max_n_repeat = float(all_params['REP'])\n",
    "min_mz = float(all_params['MZMIN'])\n",
    "max_mz = float(all_params['MZMAX'])\n",
    "pH = float(all_params['PH'])\n",
    "window = 5\n",
    "min_hydrophobicity = float(all_params['HMIN'])\n",
    "max_hydrophobicity = float(all_params['HMAX'])\n",
    "\n",
    "constraints = [\n",
    "    lambda peptide : no_long_repetitions(peptide, max_n_repeat=max_n_repeat),\n",
    "    lambda peptide : mz_in_range(digest(peptide), min_mz=min_mz, max_mz=max_mz, pH=pH),\n",
    "    lambda peptide : acceptable_hydrophobicity_profile(digest(peptide), min_hydrophobicity=min_hydrophobicity, max_hydrophobicity=max_hydrophobicity),\n",
    "    lambda peptide : not_in_reference_proteome(digest(peptide)),\n",
    "]\n",
    "\n",
    "def satisfies_all_constraints(peptide):\n",
    "    \"\"\"Return True only if each function in the constraints list returns True\"\"\"\n",
    "    for constraint in constraints:\n",
    "        if not constraint(peptide):\n",
    "            return False\n",
    "    return True\n",
    "\n",
    "from tqdm import tqdm\n",
    "def generate_library(library_size, sample_from_trial_distribution, check_constraints, max_n_trials=int(1e9)):\n",
    "    \"\"\"Build a library by sampling peptides from the trial distribution, and adding them to the library\n",
    "    if they satisfy all the constraints, and if they're not already in the library.\"\"\"\n",
    "    library = []\n",
    "    trange = tqdm(range(1, max_n_trials + 1))\n",
    "    for i in trange:\n",
    "        trial = sample_from_trial_distribution()\n",
    "        if trial not in library:\n",
    "            if check_constraints(trial):\n",
    "                library.append(trial)\n",
    "        trange.set_postfix({'current library size': len(library),\n",
    "                            'current yield percentage': 100.0 * len(library) / i\n",
    "                           })\n",
    "        if len(library) >= library_size:\n",
    "            print('target library size achieved! terminating early')\n",
    "            break\n",
    "    if len(library) < library_size:\n",
    "        print('target library size not achieved, returning the library assembled so far')\n",
    "    return library"
   ]
  },
  {
   "cell_type": "code",
   "execution_count": 11,
   "metadata": {},
   "outputs": [
    {
     "data": {
      "text/plain": [
       "0.1796"
      ]
     },
     "execution_count": 11,
     "metadata": {},
     "output_type": "execute_result"
    }
   ],
   "source": [
    "# what fraction of trial peptides satisfy all our constraints?\n",
    "#np.mean([satisfies_all_constraints(sample_from_trial_distribution()) for _ in range(10000)])"
   ]
  },
  {
   "cell_type": "markdown",
   "metadata": {},
   "source": [
    "## 4. Testing algorithm: Running a random trial."
   ]
  },
  {
   "cell_type": "markdown",
   "metadata": {},
   "source": [
    "### 4.1 Set seed."
   ]
  },
  {
   "cell_type": "code",
   "execution_count": null,
   "metadata": {},
   "outputs": [],
   "source": [
    "print('Testing algorithm with a random trial...')\n",
    "seed = input(\"Please provide a seed number: \")\n",
    "print(\"You have provided the following seed number: \" + str(seed))\n",
    "print('\\n')"
   ]
  },
  {
   "cell_type": "code",
   "execution_count": null,
   "metadata": {},
   "outputs": [],
   "source": [
    "np.random.seed(int(seed))"
   ]
  },
  {
   "cell_type": "markdown",
   "metadata": {},
   "source": [
    "### 4.2 Generate random peptides from amino acid residue sampling distribution."
   ]
  },
  {
   "cell_type": "code",
   "execution_count": null,
   "metadata": {},
   "outputs": [],
   "source": [
    "print('Generating random peptides from amino acid residue sampling distribution...')"
   ]
  },
  {
   "cell_type": "code",
   "execution_count": 12,
   "metadata": {},
   "outputs": [],
   "source": [
    "trial_peptides = [sample_from_trial_distribution() for _ in range(10000)]\n",
    "lengths = list(map(len, trial_peptides))"
   ]
  },
  {
   "cell_type": "code",
   "execution_count": null,
   "metadata": {},
   "outputs": [],
   "source": [
    "print('Generated.')\n",
    "print('\\n')"
   ]
  },
  {
   "cell_type": "code",
   "execution_count": 13,
   "metadata": {},
   "outputs": [
    {
     "data": {
      "text/plain": [
       "'GRALVVVSFEAEGVGFVFGRA'"
      ]
     },
     "execution_count": 13,
     "metadata": {},
     "output_type": "execute_result"
    }
   ],
   "source": [
    "#check generation\n",
    "trial_peptides[0]"
   ]
  },
  {
   "cell_type": "markdown",
   "metadata": {},
   "source": [
    "### 4.3 Calculate m/z for random peptides."
   ]
  },
  {
   "cell_type": "code",
   "execution_count": null,
   "metadata": {},
   "outputs": [],
   "source": [
    "print('Calculating m/z for random peptides...')"
   ]
  },
  {
   "cell_type": "code",
   "execution_count": 14,
   "metadata": {},
   "outputs": [],
   "source": [
    "mz_for_random_peptides = np.array(list(map(lambda p: compute_mz(digest(p),pH), trial_peptides)))"
   ]
  },
  {
   "cell_type": "code",
   "execution_count": null,
   "metadata": {},
   "outputs": [],
   "source": [
    "print('Calculated.')\n",
    "print('\\n')"
   ]
  },
  {
   "cell_type": "markdown",
   "metadata": {},
   "source": [
    "### 4.4 Plot histogram of m/z for the random trial peptides."
   ]
  },
  {
   "cell_type": "code",
   "execution_count": null,
   "metadata": {},
   "outputs": [],
   "source": [
    "print('Plotting histogram of m/z for the random trial peptides...')"
   ]
  },
  {
   "cell_type": "code",
   "execution_count": 15,
   "metadata": {},
   "outputs": [
    {
     "data": {
      "image/png": "[encoded data removed]",
      "text/plain": [
       "<Figure size 432x288 with 1 Axes>"
      ]
     },
     "metadata": {
      "needs_background": "light"
     },
     "output_type": "display_data"
    }
   ],
   "source": [
    "hist_heights = plt.hist(mz_for_random_peptides, bins=50, alpha=0.5)[0];\n",
    "plt.ylabel('probability density')\n",
    "plt.yticks([])\n",
    "plt.xlabel('m/z')\n",
    "plt.title('m/z for random trial peptides')\n",
    "print('Plotted.')\n",
    "print('\\n')\n",
    "\n",
    "print('Highlighting the desired m/z range constraint on the figure...')\n",
    "#plt.vlines([min_mz, max_mz], 0, max(hist_heights)*1.1)\n",
    "plt.fill_between([min_mz, max_mz], [0]*2, [max(hist_heights)*1.1]*2, color='green', alpha=0.3)\n",
    "print('Highlighted.')\n",
    "print('\\n')\n",
    "\n",
    "print('Saving figure as \"m-z-for-random-trial-peptides.png\" in current directory...')\n",
    "plt.savefig('m-z-for-random-trial-peptides.png',dpi=300,bbox_inches='tight')\n",
    "print('Saved.')\n",
    "print('\\n')\n",
    "\n",
    "#plt.show()\n",
    "plt.close()\n",
    "\n",
    "#plt.fill_between([min(mz_for_random_peptides), min_mz], [0]*2, [max(hist_heights)]*2, color='grey', alpha=0.3)\n",
    "#plt.fill_between([max_mz, max(mz_for_random_peptides)], [0]*2, [max(hist_heights)]*2, color='grey', alpha=0.3)"
   ]
  },
  {
   "cell_type": "markdown",
   "metadata": {},
   "source": [
    "### 4.5 Plot scatter of m/z vs. length for random trial peptides."
   ]
  },
  {
   "cell_type": "code",
   "execution_count": 16,
   "metadata": {},
   "outputs": [
    {
     "data": {
      "image/png": "[encoded data removed]",
      "text/plain": [
       "<Figure size 432x288 with 1 Axes>"
      ]
     },
     "metadata": {
      "needs_background": "light"
     },
     "output_type": "display_data"
    }
   ],
   "source": [
    "print('Plotting scatter of m/z vs. length for random trial peptides....')\n",
    "plt.scatter(lengths, mz_for_random_peptides, s=1)\n",
    "plt.title('m/z vs. length for random trial peptides')\n",
    "plt.xlabel('length')\n",
    "plt.ylabel('m/z')\n",
    "print('Plotted.')\n",
    "print('\\n')\n",
    "\n",
    "print('Highlighting the desired m/z range constraint on the figure...')\n",
    "#plt.hlines([min_mz, max_mz], min(lengths), max(lengths))\n",
    "plt.fill_between([min(lengths), max(lengths)], [max_mz]*2, [min_mz]*2, color='green', alpha=0.3)\n",
    "print('Highlighted.')\n",
    "print('\\n')\n",
    "\n",
    "print('Saving figure as \"m-z-vs.-length-for-random-trial-peptides.png\" in current directory...')\n",
    "plt.savefig('m-z-vs.-length-for-random-trial-peptides.png',dpi=300,bbox_inches='tight')\n",
    "print('Saved.')\n",
    "print('\\n')\n",
    "#plt.show()\n",
    "plt.close()"
   ]
  },
  {
   "cell_type": "markdown",
   "metadata": {},
   "source": [
    "## 5. Generate library of random peptides that satisfy all constraints."
   ]
  },
  {
   "cell_type": "code",
   "execution_count": 17,
   "metadata": {},
   "outputs": [
    {
     "name": "stderr",
     "output_type": "stream",
     "text": [
      "  0%|          | 529/1000000000 [00:02<1072:47:38, 258.93it/s, current library size=100, current yield percentage=18.8]"
     ]
    },
    {
     "name": "stdout",
     "output_type": "stream",
     "text": [
      "target library size achieved! terminating early\n"
     ]
    },
    {
     "name": "stderr",
     "output_type": "stream",
     "text": [
      "\n"
     ]
    }
   ],
   "source": [
    "print('Generating library of random peptides that satisfy all the constraints...')\n",
    "# generate library of random peptides that satisfy all the constraints\n",
    "np.random.seed(0)\n",
    "library = generate_library(library_size=100,\n",
    "                          sample_from_trial_distribution=sample_from_trial_distribution,\n",
    "                          check_constraints=satisfies_all_constraints)"
   ]
  },
  {
   "cell_type": "code",
   "execution_count": 18,
   "metadata": {},
   "outputs": [
    {
     "data": {
      "image/png": "[encoded data removed]",
      "text/plain": [
       "<Figure size 432x288 with 1 Axes>"
      ]
     },
     "metadata": {
      "needs_background": "light"
     },
     "output_type": "display_data"
    }
   ],
   "source": [
    "lengths = list(map(len, library))\n",
    "\n",
    "print('\\n')\n",
    "print('Plotting distribution of peptide lengths in the library...')\n",
    "plt.bar(np.arange(max(lengths)+1), np.bincount(lengths))\n",
    "plt.xlabel('length')\n",
    "plt.ylabel('# occurrences in sampled barcode library')\n",
    "plt.xticks(np.arange(max(lengths) + 2)[::5])\n",
    "#plt.show()\n",
    "print('Plotted.')\n",
    "print('\\n')\n",
    "\n",
    "print('Saving figure as \"sample-librar-length.png\" in current directory...')\n",
    "plt.savefig('sample-librar-length.png', dpi=300,bbox_inches='tight')\n",
    "print('Saved.')\n",
    "print('\\n')\n",
    "plt.close()"
   ]
  },
  {
   "cell_type": "code",
   "execution_count": 19,
   "metadata": {},
   "outputs": [
    {
     "data": {
      "image/png": "[encoded data removed]",
      "text/plain": [
       "<Figure size 432x288 with 1 Axes>"
      ]
     },
     "metadata": {
      "needs_background": "light"
     },
     "output_type": "display_data"
    }
   ],
   "source": [
    "print('Calculating m/z values for peptides in library...')\n",
    "mz_for_library_peptides = np.array(list(map(lambda p: compute_mz(digest(p),pH), library)))\n",
    "print('Calculated')\n",
    "print('\\n')\n",
    "\n",
    "print('Plotting distribution of m/z values for peptides in library...')\n",
    "hist_heights = plt.hist(mz_for_library_peptides, bins=100, alpha=0.5)[0];\n",
    "plt.xlabel('m/z')\n",
    "plt.ylabel('# occurrences in sampled barcode library')\n",
    "print('Plotted.')\n",
    "print('\\n')\n",
    "\n",
    "print('Highlighting the desired m/z range constraint on the figure...')\n",
    "plt.fill_between([min_mz, max_mz], [0]*2, [max(hist_heights)*1.1]*2, color='green', alpha=0.3)\n",
    "print('Highlighted.')\n",
    "print('\\n')\n",
    "#plt.show()\n",
    "\n",
    "print('Saving figure as \"sample-librar-m-z.png\" in current directory...')\n",
    "plt.savefig('sample-librar-m-z.png', dpi=300,bbox_inches='tight')\n",
    "print('Saved.')\n",
    "print('\\n')\n",
    "plt.close()"
   ]
  },
  {
   "cell_type": "code",
   "execution_count": 20,
   "metadata": {},
   "outputs": [
    {
     "data": {
      "image/png": "[encoded data removed]",
      "text/plain": [
       "<Figure size 432x288 with 1 Axes>"
      ]
     },
     "metadata": {
      "needs_background": "light"
     },
     "output_type": "display_data"
    }
   ],
   "source": [
    "print('Calculating hydrophobicity profiles for peptides in library...')\n",
    "hydrophobicity_profiles = list (map(compute_hydrophobicity_profile,library))\n",
    "min_hydrophobicities = list (map(np.min,hydrophobicity_profiles))\n",
    "max_hydrophobicities = list (map(np.max,hydrophobicity_profiles))\n",
    "print('Calculated.')\n",
    "print('\\n')\n",
    "\n",
    "print('Plotting distribution of hydrophobicity profiles for peptides in library...')\n",
    "ax = plt.subplot(111)\n",
    "plt.hist(min_hydrophobicities, bins = 50, alpha = 0.5, label = 'min(profile)');\n",
    "plt.hist(max_hydrophobicities, bins = 50, alpha = 0.5, label = 'max(profile)');\n",
    "plt.xlabel('hydrophobicity')\n",
    "plt.ylabel('# occurrences in sampled barcode library')\n",
    "plt.legend(loc='best')\n",
    "plt.title('sampled barcode library')\n",
    "print('Plotted.')\n",
    "print('\\n')\n",
    "\n",
    "\n",
    "ax.spines['top'].set_visible(False)\n",
    "ax.spines['right'].set_visible(False)\n",
    "#plt.show()\n",
    "print('Saving figure as \"sample-librar-hydrophobicity.png\" in current directory...')\n",
    "plt.savefig('sample-librar-hydrophobicity.png',dpi=300,bbox_inches='tight')\n",
    "print('Saved.')\n",
    "print('\\n')\n",
    "plt.close()"
   ]
  },
  {
   "cell_type": "markdown",
   "metadata": {},
   "source": [
    "## 6. Save data in csv file."
   ]
  },
  {
   "cell_type": "code",
   "execution_count": null,
   "metadata": {},
   "outputs": [],
   "source": [
    "print('Describing peptides...')"
   ]
  },
  {
   "cell_type": "code",
   "execution_count": 21,
   "metadata": {},
   "outputs": [],
   "source": [
    "def describe_peptide(peptide):\n",
    "    barcode = peptide\n",
    "    tryptic = digest(peptide)\n",
    "    mz_of_tryptic_digest = compute_mz(digest(peptide),pH)\n",
    "    maxhyd = np.max(compute_hydrophobicity_profile(digest(peptide)))\n",
    "    return ','.join([barcode,tryptic, str(mz_of_tryptic_digest), str(maxhyd)])\n",
    "\n",
    "lines = list(map(describe_peptide, sorted(library)))"
   ]
  },
  {
   "cell_type": "code",
   "execution_count": null,
   "metadata": {},
   "outputs": [],
   "source": [
    "print('Described.')\n",
    "print('\\n')"
   ]
  },
  {
   "cell_type": "code",
   "execution_count": 22,
   "metadata": {},
   "outputs": [],
   "source": [
    "print('Saving peptide descriptions in \"output.csv\"...')\n",
    "\n",
    "#prepare a reformatted dict containing all parameters and their values\n",
    "all_params_ks_vs = all_params.items()\n",
    "reformat_all_params = {str(key): str(value) for key, value in all_params_ks_vs}\n",
    "\n",
    "#get date and time for output file\n",
    "now = datetime.now()\n",
    "now = now.strftime(\"%d/%m/%Y %H:%M:%S\")\n",
    "now = now.split(' ')\n",
    "\n",
    "#write output file\n",
    "with open('output.csv', 'w') as f:\n",
    "    wr = csv.writer(f, dialect='excel')\n",
    "    wr.writerow(['BarcodeBabel Output'])\n",
    "    wr.writerow(['Date', 'Time'])\n",
    "    wr.writerow([now[0], now[1]])\n",
    "    wr.writerow([])\n",
    "    wr.writerow(['These are the parameter assignments BarcodeBabel used.'])\n",
    "    wr.writerow(['Parameters'] + list(reformat_all_params.keys()))\n",
    "    wr.writerow(['Parameter Assignments'] + list(reformat_all_params.values()))\n",
    "    wr.writerow([])\n",
    "    wr.writerow(['Barcode Library'])\n",
    "    f.writelines(['barcode, protease digest, m/z of protease digest,maximum hydrophobocity protease digest, TAT-barcode-HIS-fwd,TAT-barcode-HIS-rev\\n'])\n",
    "    f.writelines(['{}\\n'.format(line) for line in lines])\n",
    "print('Saved.')\n",
    "print('\\n')"
   ]
  },
  {
   "cell_type": "code",
   "execution_count": 5,
   "metadata": {},
   "outputs": [
    {
     "name": "stdout",
     "output_type": "stream",
     "text": [
      "BarcodeBabel completed.\n"
     ]
    }
   ],
   "source": [
    "print('BarcodeBabel completed.')"
   ]
  }
 ],
 "metadata": {
  "kernelspec": {
   "display_name": "Python 3",
   "language": "python",
   "name": "python3"
  },
  "language_info": {
   "codemirror_mode": {
    "name": "ipython",
    "version": 3
   },
   "file_extension": ".py",
   "mimetype": "text/x-python",
   "name": "python",
   "nbconvert_exporter": "python",
   "pygments_lexer": "ipython3",
   "version": "3.7.6"
  }
 },
 "nbformat": 4,
 "nbformat_minor": 4
}
